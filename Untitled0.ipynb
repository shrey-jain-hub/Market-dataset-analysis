{
  "nbformat": 4,
  "nbformat_minor": 0,
  "metadata": {
    "colab": {
      "provenance": []
    },
    "kernelspec": {
      "name": "python3",
      "display_name": "Python 3"
    },
    "language_info": {
      "name": "python"
    }
  },
  "cells": [
    {
      "cell_type": "markdown",
      "source": [
        "# Import necessary libraries"
      ],
      "metadata": {
        "id": "JjSpKxHoYdv8"
      }
    },
    {
      "cell_type": "code",
      "execution_count": 1,
      "metadata": {
        "id": "bLMsnu0tVk3-"
      },
      "outputs": [],
      "source": [
        "import pandas as pd"
      ]
    },
    {
      "cell_type": "markdown",
      "source": [
        "# Load the dataset"
      ],
      "metadata": {
        "id": "AmEB-fLmY_0c"
      }
    },
    {
      "cell_type": "code",
      "source": [
        "df = pd.read_csv('/content/drive/MyDrive/data set/supermarket_sales new.csv')"
      ],
      "metadata": {
        "id": "NyCp6Eb3Y0vI"
      },
      "execution_count": 3,
      "outputs": []
    },
    {
      "cell_type": "markdown",
      "source": [
        "# Display the first few rows of the dataset"
      ],
      "metadata": {
        "id": "UEot_qoSZ-6K"
      }
    },
    {
      "cell_type": "code",
      "source": [
        "print(\"Initial Dataset:\")"
      ],
      "metadata": {
        "id": "nhm9JMJvZplU",
        "outputId": "0059d614-05f2-46e4-d8f4-0cd880442277",
        "colab": {
          "base_uri": "https://localhost:8080/"
        }
      },
      "execution_count": 4,
      "outputs": [
        {
          "output_type": "stream",
          "name": "stdout",
          "text": [
            "Initial Dataset:\n"
          ]
        }
      ]
    },
    {
      "cell_type": "code",
      "source": [
        "print(df.head())\n"
      ],
      "metadata": {
        "id": "Fm2vj1QWa4nu",
        "outputId": "5f48e7e0-83a5-4da7-9829-3caca7c7bf5b",
        "colab": {
          "base_uri": "https://localhost:8080/"
        }
      },
      "execution_count": 5,
      "outputs": [
        {
          "output_type": "stream",
          "name": "stdout",
          "text": [
            "   Gender   Invoice ID Branch       City Customer type  \\\n",
            "0  Female  750-67-8428      A     Yangon        Member   \n",
            "1  Female  226-31-3081      C  Naypyitaw        Normal   \n",
            "2  Female  355-53-5943      A     Yangon        Member   \n",
            "3  Female  315-22-5665      C  Naypyitaw        Normal   \n",
            "4  Female  665-32-9167      A     Yangon        Member   \n",
            "\n",
            "             Product line  Unit price  Quantity   Tax 5%  \n",
            "0       Health and beauty       74.69         7  261.415  \n",
            "1  Electronic accessories       15.28         5    3.820  \n",
            "2  Electronic accessories       68.84         6   20.652  \n",
            "3      Home and lifestyle       73.56        10   36.780  \n",
            "4       Health and beauty       36.26         2    3.626  \n"
          ]
        }
      ]
    },
    {
      "cell_type": "markdown",
      "source": [
        "# Step 1: Identify and handle missing values"
      ],
      "metadata": {
        "id": "So-gwFAebOwM"
      }
    },
    {
      "cell_type": "code",
      "source": [
        "# Check for missing values"
      ],
      "metadata": {
        "id": "VF8Q--BybNH3"
      },
      "execution_count": 12,
      "outputs": []
    },
    {
      "cell_type": "code",
      "source": [
        "missing_values = df.isnull().sum()"
      ],
      "metadata": {
        "id": "y8iHJMxibdFw"
      },
      "execution_count": 11,
      "outputs": []
    },
    {
      "cell_type": "code",
      "source": [
        "print(\"\\nMissing Values in Each Column:\")"
      ],
      "metadata": {
        "id": "OunyiDngbh2Y",
        "outputId": "56f665bd-ee7d-4188-a971-d1598feccc34",
        "colab": {
          "base_uri": "https://localhost:8080/"
        }
      },
      "execution_count": 9,
      "outputs": [
        {
          "output_type": "stream",
          "name": "stdout",
          "text": [
            "\n",
            "Missing Values in Each Column:\n"
          ]
        }
      ]
    },
    {
      "cell_type": "code",
      "source": [
        "print(missing_values)"
      ],
      "metadata": {
        "id": "RIOxsPYjboUz",
        "outputId": "354b6db0-32d4-4d43-ef8d-53f863a148b3",
        "colab": {
          "base_uri": "https://localhost:8080/"
        }
      },
      "execution_count": 10,
      "outputs": [
        {
          "output_type": "stream",
          "name": "stdout",
          "text": [
            "Gender           0\n",
            "Invoice ID       0\n",
            "Branch           0\n",
            "City             0\n",
            "Customer type    0\n",
            "Product line     0\n",
            "Unit price       0\n",
            "Quantity         0\n",
            "Tax 5%           0\n",
            "dtype: int64\n"
          ]
        }
      ]
    },
    {
      "cell_type": "code",
      "source": [
        "# Handling missing values"
      ],
      "metadata": {
        "id": "H8skWFAYbs5A"
      },
      "execution_count": 13,
      "outputs": []
    },
    {
      "cell_type": "code",
      "source": [
        "# Fill missing values for 'Customer type' with 'Unknown'"
      ],
      "metadata": {
        "id": "iULE7WeIb3Nk"
      },
      "execution_count": 14,
      "outputs": []
    },
    {
      "cell_type": "code",
      "source": [
        "df['Customer type'] = df['Customer type'].fillna('Unknown')"
      ],
      "metadata": {
        "id": "jpaMSwy1b6zg"
      },
      "execution_count": 15,
      "outputs": []
    },
    {
      "cell_type": "markdown",
      "source": [
        "# Step 2: Remove duplicate rows"
      ],
      "metadata": {
        "id": "XeKmmSqkcBhC"
      }
    },
    {
      "cell_type": "code",
      "source": [
        "# Check for duplicates"
      ],
      "metadata": {
        "id": "hyG03iUCcAQG"
      },
      "execution_count": 16,
      "outputs": []
    },
    {
      "cell_type": "code",
      "source": [
        "duplicates = df.duplicated().sum()"
      ],
      "metadata": {
        "id": "N76QwOCAcMa-"
      },
      "execution_count": 18,
      "outputs": []
    },
    {
      "cell_type": "code",
      "source": [
        "print(f\"\\nNumber of Duplicate Rows: {duplicates}\")"
      ],
      "metadata": {
        "id": "1F_iN6pEcSCu",
        "outputId": "9bb4bb90-6411-411b-b12b-0778cc57e908",
        "colab": {
          "base_uri": "https://localhost:8080/"
        }
      },
      "execution_count": 19,
      "outputs": [
        {
          "output_type": "stream",
          "name": "stdout",
          "text": [
            "\n",
            "Number of Duplicate Rows: 0\n"
          ]
        }
      ]
    },
    {
      "cell_type": "code",
      "source": [
        "# Remove duplicates\n"
      ],
      "metadata": {
        "id": "MR8XnZYacW7h"
      },
      "execution_count": 20,
      "outputs": []
    },
    {
      "cell_type": "code",
      "source": [
        "df = df.drop_duplicates()"
      ],
      "metadata": {
        "id": "U-MV2ngvcdzV"
      },
      "execution_count": 22,
      "outputs": []
    },
    {
      "cell_type": "markdown",
      "source": [
        "# Step 3: Standardize text values"
      ],
      "metadata": {
        "id": "SudSphf-comO"
      }
    },
    {
      "cell_type": "code",
      "source": [
        "# Standardizing 'Gender' values to lowercase"
      ],
      "metadata": {
        "id": "8RWLUja3clR7"
      },
      "execution_count": 23,
      "outputs": []
    },
    {
      "cell_type": "code",
      "source": [
        "df['City'] = df['City'].str.lower().str.strip()"
      ],
      "metadata": {
        "id": "05D7ZePccv3U"
      },
      "execution_count": 24,
      "outputs": []
    },
    {
      "cell_type": "markdown",
      "source": [
        "# Step 4: Convert date formats"
      ],
      "metadata": {
        "id": "BK_-X_nuc2iD"
      }
    },
    {
      "cell_type": "code",
      "source": [
        "# If there is a date column, convert it to datetime format"
      ],
      "metadata": {
        "id": "b04ggLGPczsX"
      },
      "execution_count": 25,
      "outputs": []
    },
    {
      "cell_type": "code",
      "source": [
        "# Assuming there is a 'Date' column, uncomment the following line"
      ],
      "metadata": {
        "id": "8wSpu7I9dBhQ"
      },
      "execution_count": 26,
      "outputs": []
    },
    {
      "cell_type": "code",
      "source": [
        "# df['Date'] = pd.to_datetime(df['Date'].str.strip(), format='%Y-%m-%d', errors='coerce')\n",
        "\n"
      ],
      "metadata": {
        "id": "trwxIpzydFfd"
      },
      "execution_count": 27,
      "outputs": []
    },
    {
      "cell_type": "markdown",
      "source": [
        "# Step 5: Rename column headers"
      ],
      "metadata": {
        "id": "Op5_mXYOdQ7L"
      }
    },
    {
      "cell_type": "code",
      "source": [
        "df.columns = df.columns.str.lower().str.replace(' ', '_')"
      ],
      "metadata": {
        "id": "vpXyZUIjdJVn"
      },
      "execution_count": 28,
      "outputs": []
    },
    {
      "cell_type": "markdown",
      "source": [
        "# Step 6: Check and fix data types"
      ],
      "metadata": {
        "id": "et9JPwQcdZ_4"
      }
    },
    {
      "cell_type": "code",
      "source": [
        "# Ensure 'unit_price' and 'quantity' are numeric"
      ],
      "metadata": {
        "id": "_WDL4j_gdVvl"
      },
      "execution_count": 29,
      "outputs": []
    },
    {
      "cell_type": "code",
      "source": [
        "df['unit_price'] = pd.to_numeric(df['unit_price'], errors='coerce')"
      ],
      "metadata": {
        "id": "OFqPcs0Hdj-5"
      },
      "execution_count": 36,
      "outputs": []
    },
    {
      "cell_type": "code",
      "source": [
        "df['quantity'] = pd.to_numeric(df['quantity'], errors='coerce')\n"
      ],
      "metadata": {
        "id": "aSueQhhMdusE"
      },
      "execution_count": 37,
      "outputs": []
    },
    {
      "cell_type": "markdown",
      "source": [
        "# Step 7: Handle inconsistent data formats"
      ],
      "metadata": {
        "id": "O8GuELkTh8ko"
      }
    },
    {
      "cell_type": "code",
      "source": [
        "# Example: Standardizing 'Branch' values"
      ],
      "metadata": {
        "id": "xRnrBkF1d2SW"
      },
      "execution_count": 38,
      "outputs": []
    },
    {
      "cell_type": "code",
      "source": [
        "df['branch'] = df['branch'].str.lower().str.strip()"
      ],
      "metadata": {
        "id": "gy_bQAbpiBGb"
      },
      "execution_count": 40,
      "outputs": []
    },
    {
      "cell_type": "markdown",
      "source": [
        "# Step 8: Check data quality"
      ],
      "metadata": {
        "id": "3lZjHpjziYkx"
      }
    },
    {
      "cell_type": "code",
      "source": [
        "valid_customer_types = ['member', 'normal']"
      ],
      "metadata": {
        "id": "DK0zExejiEEI"
      },
      "execution_count": 47,
      "outputs": []
    },
    {
      "cell_type": "code",
      "source": [
        "df = df[df['customer_type'].str.lower().isin(valid_customer_types)]\n"
      ],
      "metadata": {
        "id": "RyYAzSrPigjk"
      },
      "execution_count": 46,
      "outputs": []
    },
    {
      "cell_type": "markdown",
      "source": [
        "\n",
        "# Step 9: Document changes\n"
      ],
      "metadata": {
        "id": "mocwyZUejRhh"
      }
    },
    {
      "cell_type": "code",
      "source": [
        "summary = {\n",
        "    \"missing_values_handled\": True,\n",
        "    \"duplicates_removed\": True,\n",
        "    \"text_values_standardized\": True,\n",
        "    \"date_format_converted\": True,  # Uncomment if date conversion is applied\n",
        "    \"column_headers_renamed\": True,\n",
        "    \"data_types_fixed\": True,\n",
        "    \"valid_customer_types_checked\": True\n",
        "}"
      ],
      "metadata": {
        "id": "hWvvSoQhjLKd"
      },
      "execution_count": 53,
      "outputs": []
    },
    {
      "cell_type": "code",
      "source": [
        "print(\"\\nSummary of Changes:\")"
      ],
      "metadata": {
        "id": "xcKJG0TxjXtO",
        "outputId": "b43a2bca-fa2b-46cc-9e73-0f5326b92d42",
        "colab": {
          "base_uri": "https://localhost:8080/"
        }
      },
      "execution_count": 54,
      "outputs": [
        {
          "output_type": "stream",
          "name": "stdout",
          "text": [
            "\n",
            "Summary of Changes:\n"
          ]
        }
      ]
    },
    {
      "cell_type": "code",
      "source": [
        "for key, value in summary.items():\n",
        "    print(f\"{key}: {value}\")"
      ],
      "metadata": {
        "id": "5_i7tANnkMfm",
        "outputId": "dc0ddcf4-28e3-4a3e-a94b-6dcf1e64c352",
        "colab": {
          "base_uri": "https://localhost:8080/"
        }
      },
      "execution_count": 56,
      "outputs": [
        {
          "output_type": "stream",
          "name": "stdout",
          "text": [
            "missing_values_handled: True\n",
            "duplicates_removed: True\n",
            "text_values_standardized: True\n",
            "date_format_converted: True\n",
            "column_headers_renamed: True\n",
            "data_types_fixed: True\n",
            "valid_customer_types_checked: True\n"
          ]
        }
      ]
    },
    {
      "cell_type": "code",
      "source": [
        "\n",
        "# Display the cleaned dataset\n",
        "print(\"\\nCleaned Dataset:\")\n",
        "print(df.head())"
      ],
      "metadata": {
        "id": "Edetl8UpkRpI",
        "outputId": "fa449c4f-562c-4d1d-afb7-93d27503a79f",
        "colab": {
          "base_uri": "https://localhost:8080/"
        }
      },
      "execution_count": 57,
      "outputs": [
        {
          "output_type": "stream",
          "name": "stdout",
          "text": [
            "\n",
            "Cleaned Dataset:\n",
            "   gender   invoice_id branch       city customer_type  \\\n",
            "0  Female  750-67-8428      a     yangon        Member   \n",
            "1  Female  226-31-3081      c  naypyitaw        Normal   \n",
            "2  Female  355-53-5943      a     yangon        Member   \n",
            "3  Female  315-22-5665      c  naypyitaw        Normal   \n",
            "4  Female  665-32-9167      a     yangon        Member   \n",
            "\n",
            "             product_line  unit_price  quantity   tax_5%  \n",
            "0       Health and beauty       74.69         7  261.415  \n",
            "1  Electronic accessories       15.28         5    3.820  \n",
            "2  Electronic accessories       68.84         6   20.652  \n",
            "3      Home and lifestyle       73.56        10   36.780  \n",
            "4       Health and beauty       36.26         2    3.626  \n"
          ]
        }
      ]
    },
    {
      "cell_type": "code",
      "source": [
        "# Save the cleaned dataset to a new CSV file\n",
        "df.to_csv('cleaned_supermarket_sales.csv', index=False)"
      ],
      "metadata": {
        "id": "bTRCGAltkzTD"
      },
      "execution_count": 59,
      "outputs": []
    },
    {
      "cell_type": "code",
      "source": [],
      "metadata": {
        "id": "-NUbieq_2QA5"
      },
      "execution_count": null,
      "outputs": []
    }
  ]
}